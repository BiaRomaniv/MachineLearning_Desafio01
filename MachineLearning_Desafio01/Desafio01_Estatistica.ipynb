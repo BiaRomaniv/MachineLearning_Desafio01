{
 "cells": [
  {
   "cell_type": "code",
   "execution_count": 1,
   "id": "fd97d41f",
   "metadata": {},
   "outputs": [],
   "source": [
    "import pandas as pd\n",
    "import matplotlib.pyplot as plt"
   ]
  },
  {
   "cell_type": "code",
   "execution_count": 2,
   "id": "6238aac4",
   "metadata": {},
   "outputs": [],
   "source": [
    "dict_faturamento = {\n",
    "    'data_ref': [\n",
    "        '2023-01-01', \n",
    "        '2020-02-01', \n",
    "        '2021-03-01', \n",
    "        '2022-04-01', \n",
    "        '2023-05-01',\n",
    "        '2023-06-01', \n",
    "        '2020-07-01', \n",
    "        '2021-08-01', \n",
    "        '2022-09-01', \n",
    "        '2023-10-01',\n",
    "        '2022-11-01', \n",
    "        '2023-12-01',\n",
    "        ],\n",
    "    'valor': [\n",
    "        400000, \n",
    "        890000, \n",
    "        760000, \n",
    "        430000, \n",
    "        920000,\n",
    "        340000, \n",
    "        800000, \n",
    "        500000, \n",
    "        200000, \n",
    "        900000,\n",
    "        570000, \n",
    "        995000,\n",
    "        ]\n",
    "}"
   ]
  },
  {
   "cell_type": "code",
   "execution_count": 3,
   "id": "8654b5ef",
   "metadata": {},
   "outputs": [
    {
     "data": {
      "text/plain": [
       "{'data_ref': ['2023-01-01',\n",
       "  '2020-02-01',\n",
       "  '2021-03-01',\n",
       "  '2022-04-01',\n",
       "  '2023-05-01',\n",
       "  '2023-06-01',\n",
       "  '2020-07-01',\n",
       "  '2021-08-01',\n",
       "  '2022-09-01',\n",
       "  '2023-10-01',\n",
       "  '2022-11-01',\n",
       "  '2023-12-01'],\n",
       " 'valor': [400000,\n",
       "  890000,\n",
       "  760000,\n",
       "  430000,\n",
       "  920000,\n",
       "  340000,\n",
       "  800000,\n",
       "  500000,\n",
       "  200000,\n",
       "  900000,\n",
       "  570000,\n",
       "  995000]}"
      ]
     },
     "execution_count": 3,
     "metadata": {},
     "output_type": "execute_result"
    }
   ],
   "source": [
    "dict_faturamento"
   ]
  },
  {
   "cell_type": "code",
   "execution_count": 5,
   "id": "c6fd61e8",
   "metadata": {},
   "outputs": [],
   "source": [
    "df_faturamento=pd.DataFrame.from_dict(dict_faturamento)"
   ]
  },
  {
   "cell_type": "code",
   "execution_count": 6,
   "id": "efa29277",
   "metadata": {},
   "outputs": [
    {
     "data": {
      "text/html": [
       "<div>\n",
       "<style scoped>\n",
       "    .dataframe tbody tr th:only-of-type {\n",
       "        vertical-align: middle;\n",
       "    }\n",
       "\n",
       "    .dataframe tbody tr th {\n",
       "        vertical-align: top;\n",
       "    }\n",
       "\n",
       "    .dataframe thead th {\n",
       "        text-align: right;\n",
       "    }\n",
       "</style>\n",
       "<table border=\"1\" class=\"dataframe\">\n",
       "  <thead>\n",
       "    <tr style=\"text-align: right;\">\n",
       "      <th></th>\n",
       "      <th>data_ref</th>\n",
       "      <th>valor</th>\n",
       "    </tr>\n",
       "  </thead>\n",
       "  <tbody>\n",
       "    <tr>\n",
       "      <th>0</th>\n",
       "      <td>2023-01-01</td>\n",
       "      <td>400000</td>\n",
       "    </tr>\n",
       "    <tr>\n",
       "      <th>1</th>\n",
       "      <td>2020-02-01</td>\n",
       "      <td>890000</td>\n",
       "    </tr>\n",
       "    <tr>\n",
       "      <th>2</th>\n",
       "      <td>2021-03-01</td>\n",
       "      <td>760000</td>\n",
       "    </tr>\n",
       "    <tr>\n",
       "      <th>3</th>\n",
       "      <td>2022-04-01</td>\n",
       "      <td>430000</td>\n",
       "    </tr>\n",
       "    <tr>\n",
       "      <th>4</th>\n",
       "      <td>2023-05-01</td>\n",
       "      <td>920000</td>\n",
       "    </tr>\n",
       "    <tr>\n",
       "      <th>5</th>\n",
       "      <td>2023-06-01</td>\n",
       "      <td>340000</td>\n",
       "    </tr>\n",
       "    <tr>\n",
       "      <th>6</th>\n",
       "      <td>2020-07-01</td>\n",
       "      <td>800000</td>\n",
       "    </tr>\n",
       "    <tr>\n",
       "      <th>7</th>\n",
       "      <td>2021-08-01</td>\n",
       "      <td>500000</td>\n",
       "    </tr>\n",
       "    <tr>\n",
       "      <th>8</th>\n",
       "      <td>2022-09-01</td>\n",
       "      <td>200000</td>\n",
       "    </tr>\n",
       "    <tr>\n",
       "      <th>9</th>\n",
       "      <td>2023-10-01</td>\n",
       "      <td>900000</td>\n",
       "    </tr>\n",
       "    <tr>\n",
       "      <th>10</th>\n",
       "      <td>2022-11-01</td>\n",
       "      <td>570000</td>\n",
       "    </tr>\n",
       "    <tr>\n",
       "      <th>11</th>\n",
       "      <td>2023-12-01</td>\n",
       "      <td>995000</td>\n",
       "    </tr>\n",
       "  </tbody>\n",
       "</table>\n",
       "</div>"
      ],
      "text/plain": [
       "      data_ref   valor\n",
       "0   2023-01-01  400000\n",
       "1   2020-02-01  890000\n",
       "2   2021-03-01  760000\n",
       "3   2022-04-01  430000\n",
       "4   2023-05-01  920000\n",
       "5   2023-06-01  340000\n",
       "6   2020-07-01  800000\n",
       "7   2021-08-01  500000\n",
       "8   2022-09-01  200000\n",
       "9   2023-10-01  900000\n",
       "10  2022-11-01  570000\n",
       "11  2023-12-01  995000"
      ]
     },
     "execution_count": 6,
     "metadata": {},
     "output_type": "execute_result"
    }
   ],
   "source": [
    "df_faturamento"
   ]
  },
  {
   "cell_type": "code",
   "execution_count": 13,
   "id": "67308b26",
   "metadata": {},
   "outputs": [
    {
     "data": {
      "text/plain": [
       "np.float64(642083.3333333334)"
      ]
     },
     "execution_count": 13,
     "metadata": {},
     "output_type": "execute_result"
    }
   ],
   "source": [
    "# Média das vendas \n",
    "df_faturamento['valor'].mean()"
   ]
  },
  {
   "cell_type": "code",
   "execution_count": 11,
   "id": "1995492c",
   "metadata": {},
   "outputs": [
    {
     "name": "stdout",
     "output_type": "stream",
     "text": [
      "<class 'pandas.core.frame.DataFrame'>\n",
      "RangeIndex: 12 entries, 0 to 11\n",
      "Data columns (total 2 columns):\n",
      " #   Column    Non-Null Count  Dtype \n",
      "---  ------    --------------  ----- \n",
      " 0   data_ref  12 non-null     object\n",
      " 1   valor     12 non-null     int64 \n",
      "dtypes: int64(1), object(1)\n",
      "memory usage: 324.0+ bytes\n"
     ]
    }
   ],
   "source": [
    "# informações da tabela \n",
    "df_faturamento.info()"
   ]
  },
  {
   "cell_type": "code",
   "execution_count": 14,
   "id": "3aaacd72",
   "metadata": {},
   "outputs": [],
   "source": [
    "# converter object em datatype\n",
    "df_faturamento['data_ref']= pd.to_datetime(df_faturamento['data_ref'])"
   ]
  },
  {
   "cell_type": "code",
   "execution_count": 15,
   "id": "fa96cd07",
   "metadata": {},
   "outputs": [
    {
     "name": "stdout",
     "output_type": "stream",
     "text": [
      "<class 'pandas.core.frame.DataFrame'>\n",
      "RangeIndex: 12 entries, 0 to 11\n",
      "Data columns (total 2 columns):\n",
      " #   Column    Non-Null Count  Dtype         \n",
      "---  ------    --------------  -----         \n",
      " 0   data_ref  12 non-null     datetime64[ns]\n",
      " 1   valor     12 non-null     int64         \n",
      "dtypes: datetime64[ns](1), int64(1)\n",
      "memory usage: 324.0 bytes\n"
     ]
    }
   ],
   "source": [
    "# informações da tabela\n",
    "df_faturamento.info()"
   ]
  },
  {
   "cell_type": "code",
   "execution_count": null,
   "id": "fa5364e7",
   "metadata": {},
   "outputs": [],
   "source": [
    "\n",
    "# Inserir coluna Nome do mês (Janeiro, Fevereiro, etc.)\n",
    "df_faturamento['mes'] = df_faturamento['data_ref'].dt.strftime('%B')\n"
   ]
  },
  {
   "cell_type": "code",
   "execution_count": 18,
   "id": "b4c73ef6",
   "metadata": {},
   "outputs": [
    {
     "data": {
      "text/html": [
       "<div>\n",
       "<style scoped>\n",
       "    .dataframe tbody tr th:only-of-type {\n",
       "        vertical-align: middle;\n",
       "    }\n",
       "\n",
       "    .dataframe tbody tr th {\n",
       "        vertical-align: top;\n",
       "    }\n",
       "\n",
       "    .dataframe thead th {\n",
       "        text-align: right;\n",
       "    }\n",
       "</style>\n",
       "<table border=\"1\" class=\"dataframe\">\n",
       "  <thead>\n",
       "    <tr style=\"text-align: right;\">\n",
       "      <th></th>\n",
       "      <th>data_ref</th>\n",
       "      <th>valor</th>\n",
       "      <th>mes</th>\n",
       "    </tr>\n",
       "  </thead>\n",
       "  <tbody>\n",
       "    <tr>\n",
       "      <th>0</th>\n",
       "      <td>2023-01-01</td>\n",
       "      <td>400000</td>\n",
       "      <td>January</td>\n",
       "    </tr>\n",
       "    <tr>\n",
       "      <th>1</th>\n",
       "      <td>2020-02-01</td>\n",
       "      <td>890000</td>\n",
       "      <td>February</td>\n",
       "    </tr>\n",
       "    <tr>\n",
       "      <th>2</th>\n",
       "      <td>2021-03-01</td>\n",
       "      <td>760000</td>\n",
       "      <td>March</td>\n",
       "    </tr>\n",
       "    <tr>\n",
       "      <th>3</th>\n",
       "      <td>2022-04-01</td>\n",
       "      <td>430000</td>\n",
       "      <td>April</td>\n",
       "    </tr>\n",
       "    <tr>\n",
       "      <th>4</th>\n",
       "      <td>2023-05-01</td>\n",
       "      <td>920000</td>\n",
       "      <td>May</td>\n",
       "    </tr>\n",
       "    <tr>\n",
       "      <th>5</th>\n",
       "      <td>2023-06-01</td>\n",
       "      <td>340000</td>\n",
       "      <td>June</td>\n",
       "    </tr>\n",
       "    <tr>\n",
       "      <th>6</th>\n",
       "      <td>2020-07-01</td>\n",
       "      <td>800000</td>\n",
       "      <td>July</td>\n",
       "    </tr>\n",
       "    <tr>\n",
       "      <th>7</th>\n",
       "      <td>2021-08-01</td>\n",
       "      <td>500000</td>\n",
       "      <td>August</td>\n",
       "    </tr>\n",
       "    <tr>\n",
       "      <th>8</th>\n",
       "      <td>2022-09-01</td>\n",
       "      <td>200000</td>\n",
       "      <td>September</td>\n",
       "    </tr>\n",
       "    <tr>\n",
       "      <th>9</th>\n",
       "      <td>2023-10-01</td>\n",
       "      <td>900000</td>\n",
       "      <td>October</td>\n",
       "    </tr>\n",
       "    <tr>\n",
       "      <th>10</th>\n",
       "      <td>2022-11-01</td>\n",
       "      <td>570000</td>\n",
       "      <td>November</td>\n",
       "    </tr>\n",
       "    <tr>\n",
       "      <th>11</th>\n",
       "      <td>2023-12-01</td>\n",
       "      <td>995000</td>\n",
       "      <td>December</td>\n",
       "    </tr>\n",
       "  </tbody>\n",
       "</table>\n",
       "</div>"
      ],
      "text/plain": [
       "     data_ref   valor        mes\n",
       "0  2023-01-01  400000    January\n",
       "1  2020-02-01  890000   February\n",
       "2  2021-03-01  760000      March\n",
       "3  2022-04-01  430000      April\n",
       "4  2023-05-01  920000        May\n",
       "5  2023-06-01  340000       June\n",
       "6  2020-07-01  800000       July\n",
       "7  2021-08-01  500000     August\n",
       "8  2022-09-01  200000  September\n",
       "9  2023-10-01  900000    October\n",
       "10 2022-11-01  570000   November\n",
       "11 2023-12-01  995000   December"
      ]
     },
     "execution_count": 18,
     "metadata": {},
     "output_type": "execute_result"
    }
   ],
   "source": [
    "df_faturamento\n"
   ]
  },
  {
   "cell_type": "code",
   "execution_count": 21,
   "id": "60ae2055",
   "metadata": {},
   "outputs": [],
   "source": [
    "# Inserir coluna de Ano\n",
    "df_faturamento['ano'] = df_faturamento['data_ref'].dt.year"
   ]
  },
  {
   "cell_type": "code",
   "execution_count": 20,
   "id": "972ad493",
   "metadata": {},
   "outputs": [
    {
     "data": {
      "text/html": [
       "<div>\n",
       "<style scoped>\n",
       "    .dataframe tbody tr th:only-of-type {\n",
       "        vertical-align: middle;\n",
       "    }\n",
       "\n",
       "    .dataframe tbody tr th {\n",
       "        vertical-align: top;\n",
       "    }\n",
       "\n",
       "    .dataframe thead th {\n",
       "        text-align: right;\n",
       "    }\n",
       "</style>\n",
       "<table border=\"1\" class=\"dataframe\">\n",
       "  <thead>\n",
       "    <tr style=\"text-align: right;\">\n",
       "      <th></th>\n",
       "      <th>data_ref</th>\n",
       "      <th>valor</th>\n",
       "      <th>mes</th>\n",
       "      <th>ano</th>\n",
       "    </tr>\n",
       "  </thead>\n",
       "  <tbody>\n",
       "    <tr>\n",
       "      <th>0</th>\n",
       "      <td>2023-01-01</td>\n",
       "      <td>400000</td>\n",
       "      <td>January</td>\n",
       "      <td>2023</td>\n",
       "    </tr>\n",
       "    <tr>\n",
       "      <th>1</th>\n",
       "      <td>2020-02-01</td>\n",
       "      <td>890000</td>\n",
       "      <td>February</td>\n",
       "      <td>2020</td>\n",
       "    </tr>\n",
       "    <tr>\n",
       "      <th>2</th>\n",
       "      <td>2021-03-01</td>\n",
       "      <td>760000</td>\n",
       "      <td>March</td>\n",
       "      <td>2021</td>\n",
       "    </tr>\n",
       "    <tr>\n",
       "      <th>3</th>\n",
       "      <td>2022-04-01</td>\n",
       "      <td>430000</td>\n",
       "      <td>April</td>\n",
       "      <td>2022</td>\n",
       "    </tr>\n",
       "    <tr>\n",
       "      <th>4</th>\n",
       "      <td>2023-05-01</td>\n",
       "      <td>920000</td>\n",
       "      <td>May</td>\n",
       "      <td>2023</td>\n",
       "    </tr>\n",
       "    <tr>\n",
       "      <th>5</th>\n",
       "      <td>2023-06-01</td>\n",
       "      <td>340000</td>\n",
       "      <td>June</td>\n",
       "      <td>2023</td>\n",
       "    </tr>\n",
       "    <tr>\n",
       "      <th>6</th>\n",
       "      <td>2020-07-01</td>\n",
       "      <td>800000</td>\n",
       "      <td>July</td>\n",
       "      <td>2020</td>\n",
       "    </tr>\n",
       "    <tr>\n",
       "      <th>7</th>\n",
       "      <td>2021-08-01</td>\n",
       "      <td>500000</td>\n",
       "      <td>August</td>\n",
       "      <td>2021</td>\n",
       "    </tr>\n",
       "    <tr>\n",
       "      <th>8</th>\n",
       "      <td>2022-09-01</td>\n",
       "      <td>200000</td>\n",
       "      <td>September</td>\n",
       "      <td>2022</td>\n",
       "    </tr>\n",
       "    <tr>\n",
       "      <th>9</th>\n",
       "      <td>2023-10-01</td>\n",
       "      <td>900000</td>\n",
       "      <td>October</td>\n",
       "      <td>2023</td>\n",
       "    </tr>\n",
       "    <tr>\n",
       "      <th>10</th>\n",
       "      <td>2022-11-01</td>\n",
       "      <td>570000</td>\n",
       "      <td>November</td>\n",
       "      <td>2022</td>\n",
       "    </tr>\n",
       "    <tr>\n",
       "      <th>11</th>\n",
       "      <td>2023-12-01</td>\n",
       "      <td>995000</td>\n",
       "      <td>December</td>\n",
       "      <td>2023</td>\n",
       "    </tr>\n",
       "  </tbody>\n",
       "</table>\n",
       "</div>"
      ],
      "text/plain": [
       "     data_ref   valor        mes   ano\n",
       "0  2023-01-01  400000    January  2023\n",
       "1  2020-02-01  890000   February  2020\n",
       "2  2021-03-01  760000      March  2021\n",
       "3  2022-04-01  430000      April  2022\n",
       "4  2023-05-01  920000        May  2023\n",
       "5  2023-06-01  340000       June  2023\n",
       "6  2020-07-01  800000       July  2020\n",
       "7  2021-08-01  500000     August  2021\n",
       "8  2022-09-01  200000  September  2022\n",
       "9  2023-10-01  900000    October  2023\n",
       "10 2022-11-01  570000   November  2022\n",
       "11 2023-12-01  995000   December  2023"
      ]
     },
     "execution_count": 20,
     "metadata": {},
     "output_type": "execute_result"
    }
   ],
   "source": [
    "df_faturamento"
   ]
  },
  {
   "cell_type": "code",
   "execution_count": 23,
   "id": "caa82690",
   "metadata": {},
   "outputs": [],
   "source": [
    "# Mostrar ano e mês juntos\n",
    "df_faturamento['ano_mes'] = df_faturamento['data_ref'].dt.to_period('M').astype(str)"
   ]
  },
  {
   "cell_type": "code",
   "execution_count": 24,
   "id": "66e67d13",
   "metadata": {},
   "outputs": [
    {
     "data": {
      "text/html": [
       "<div>\n",
       "<style scoped>\n",
       "    .dataframe tbody tr th:only-of-type {\n",
       "        vertical-align: middle;\n",
       "    }\n",
       "\n",
       "    .dataframe tbody tr th {\n",
       "        vertical-align: top;\n",
       "    }\n",
       "\n",
       "    .dataframe thead th {\n",
       "        text-align: right;\n",
       "    }\n",
       "</style>\n",
       "<table border=\"1\" class=\"dataframe\">\n",
       "  <thead>\n",
       "    <tr style=\"text-align: right;\">\n",
       "      <th></th>\n",
       "      <th>data_ref</th>\n",
       "      <th>valor</th>\n",
       "      <th>mes</th>\n",
       "      <th>ano</th>\n",
       "      <th>ano_mes</th>\n",
       "    </tr>\n",
       "  </thead>\n",
       "  <tbody>\n",
       "    <tr>\n",
       "      <th>0</th>\n",
       "      <td>2023-01-01</td>\n",
       "      <td>400000</td>\n",
       "      <td>January</td>\n",
       "      <td>2023</td>\n",
       "      <td>2023-01</td>\n",
       "    </tr>\n",
       "    <tr>\n",
       "      <th>1</th>\n",
       "      <td>2020-02-01</td>\n",
       "      <td>890000</td>\n",
       "      <td>February</td>\n",
       "      <td>2020</td>\n",
       "      <td>2020-02</td>\n",
       "    </tr>\n",
       "    <tr>\n",
       "      <th>2</th>\n",
       "      <td>2021-03-01</td>\n",
       "      <td>760000</td>\n",
       "      <td>March</td>\n",
       "      <td>2021</td>\n",
       "      <td>2021-03</td>\n",
       "    </tr>\n",
       "    <tr>\n",
       "      <th>3</th>\n",
       "      <td>2022-04-01</td>\n",
       "      <td>430000</td>\n",
       "      <td>April</td>\n",
       "      <td>2022</td>\n",
       "      <td>2022-04</td>\n",
       "    </tr>\n",
       "    <tr>\n",
       "      <th>4</th>\n",
       "      <td>2023-05-01</td>\n",
       "      <td>920000</td>\n",
       "      <td>May</td>\n",
       "      <td>2023</td>\n",
       "      <td>2023-05</td>\n",
       "    </tr>\n",
       "    <tr>\n",
       "      <th>5</th>\n",
       "      <td>2023-06-01</td>\n",
       "      <td>340000</td>\n",
       "      <td>June</td>\n",
       "      <td>2023</td>\n",
       "      <td>2023-06</td>\n",
       "    </tr>\n",
       "    <tr>\n",
       "      <th>6</th>\n",
       "      <td>2020-07-01</td>\n",
       "      <td>800000</td>\n",
       "      <td>July</td>\n",
       "      <td>2020</td>\n",
       "      <td>2020-07</td>\n",
       "    </tr>\n",
       "    <tr>\n",
       "      <th>7</th>\n",
       "      <td>2021-08-01</td>\n",
       "      <td>500000</td>\n",
       "      <td>August</td>\n",
       "      <td>2021</td>\n",
       "      <td>2021-08</td>\n",
       "    </tr>\n",
       "    <tr>\n",
       "      <th>8</th>\n",
       "      <td>2022-09-01</td>\n",
       "      <td>200000</td>\n",
       "      <td>September</td>\n",
       "      <td>2022</td>\n",
       "      <td>2022-09</td>\n",
       "    </tr>\n",
       "    <tr>\n",
       "      <th>9</th>\n",
       "      <td>2023-10-01</td>\n",
       "      <td>900000</td>\n",
       "      <td>October</td>\n",
       "      <td>2023</td>\n",
       "      <td>2023-10</td>\n",
       "    </tr>\n",
       "    <tr>\n",
       "      <th>10</th>\n",
       "      <td>2022-11-01</td>\n",
       "      <td>570000</td>\n",
       "      <td>November</td>\n",
       "      <td>2022</td>\n",
       "      <td>2022-11</td>\n",
       "    </tr>\n",
       "    <tr>\n",
       "      <th>11</th>\n",
       "      <td>2023-12-01</td>\n",
       "      <td>995000</td>\n",
       "      <td>December</td>\n",
       "      <td>2023</td>\n",
       "      <td>2023-12</td>\n",
       "    </tr>\n",
       "  </tbody>\n",
       "</table>\n",
       "</div>"
      ],
      "text/plain": [
       "     data_ref   valor        mes   ano  ano_mes\n",
       "0  2023-01-01  400000    January  2023  2023-01\n",
       "1  2020-02-01  890000   February  2020  2020-02\n",
       "2  2021-03-01  760000      March  2021  2021-03\n",
       "3  2022-04-01  430000      April  2022  2022-04\n",
       "4  2023-05-01  920000        May  2023  2023-05\n",
       "5  2023-06-01  340000       June  2023  2023-06\n",
       "6  2020-07-01  800000       July  2020  2020-07\n",
       "7  2021-08-01  500000     August  2021  2021-08\n",
       "8  2022-09-01  200000  September  2022  2022-09\n",
       "9  2023-10-01  900000    October  2023  2023-10\n",
       "10 2022-11-01  570000   November  2022  2022-11\n",
       "11 2023-12-01  995000   December  2023  2023-12"
      ]
     },
     "execution_count": 24,
     "metadata": {},
     "output_type": "execute_result"
    }
   ],
   "source": [
    "df_faturamento"
   ]
  },
  {
   "cell_type": "code",
   "execution_count": 30,
   "id": "ce78802e",
   "metadata": {},
   "outputs": [
    {
     "data": {
      "text/plain": [
       "<Axes: xlabel='ano_mes'>"
      ]
     },
     "execution_count": 30,
     "metadata": {},
     "output_type": "execute_result"
    },
    {
     "data": {
      "image/png": "[encoded data removed]",
      "text/plain": [
       "<Figure size 640x480 with 1 Axes>"
      ]
     },
     "metadata": {},
     "output_type": "display_data"
    }
   ],
   "source": [
    "# Criar um gráfico de barras vertical mostrando o mês de referência e o valor\n",
    "df_faturamento.sort_values('ano_mes').plot.bar(x='ano_mes', y='valor')"
   ]
  },
  {
   "cell_type": "code",
   "execution_count": 31,
   "id": "77309659",
   "metadata": {},
   "outputs": [
    {
     "data": {
      "text/plain": [
       "<Axes: xlabel='ano_mes'>"
      ]
     },
     "execution_count": 31,
     "metadata": {},
     "output_type": "execute_result"
    },
    {
     "data": {
      "image/png": "[encoded data removed]",
      "text/plain": [
       "<Figure size 640x480 with 1 Axes>"
      ]
     },
     "metadata": {},
     "output_type": "display_data"
    }
   ],
   "source": [
    "# Criar um gráfico de linhas mostrando o mês de referência e o valor.\n",
    "df_faturamento.sort_values('data_ref').plot.line(x='ano_mes', y='valor')"
   ]
  },
  {
   "cell_type": "code",
   "execution_count": null,
   "id": "3ab49c91",
   "metadata": {},
   "outputs": [],
   "source": []
  }
 ],
 "metadata": {
  "kernelspec": {
   "display_name": ".venv",
   "language": "python",
   "name": "python3"
  },
  "language_info": {
   "codemirror_mode": {
    "name": "ipython",
    "version": 3
   },
   "file_extension": ".py",
   "mimetype": "text/x-python",
   "name": "python",
   "nbconvert_exporter": "python",
   "pygments_lexer": "ipython3",
   "version": "3.13.7"
  }
 },
 "nbformat": 4,
 "nbformat_minor": 5
}
